{
 "cells": [
  {
   "cell_type": "code",
   "execution_count": 1,
   "metadata": {},
   "outputs": [],
   "source": [
    "from mpl_toolkits.basemap import Basemap\n",
    "import matplotlib.pyplot as plt\n",
    "import pandas as pd\n",
    "import numpy as np"
   ]
  },
  {
   "cell_type": "markdown",
   "metadata": {},
   "source": [
    "### Importing Data"
   ]
  },
  {
   "cell_type": "code",
   "execution_count": 2,
   "metadata": {
    "scrolled": true
   },
   "outputs": [
    {
     "data": {
      "text/html": [
       "<div>\n",
       "<style scoped>\n",
       "    .dataframe tbody tr th:only-of-type {\n",
       "        vertical-align: middle;\n",
       "    }\n",
       "\n",
       "    .dataframe tbody tr th {\n",
       "        vertical-align: top;\n",
       "    }\n",
       "\n",
       "    .dataframe thead th {\n",
       "        text-align: right;\n",
       "    }\n",
       "</style>\n",
       "<table border=\"1\" class=\"dataframe\">\n",
       "  <thead>\n",
       "    <tr style=\"text-align: right;\">\n",
       "      <th></th>\n",
       "      <th>Station</th>\n",
       "      <th>Lat</th>\n",
       "      <th>Long</th>\n",
       "      <th>Jan</th>\n",
       "      <th>Feb</th>\n",
       "      <th>Mar</th>\n",
       "      <th>Apr</th>\n",
       "      <th>May</th>\n",
       "      <th>Jun</th>\n",
       "      <th>Jul</th>\n",
       "      <th>Aug</th>\n",
       "      <th>Sep</th>\n",
       "      <th>Oct</th>\n",
       "      <th>Nov</th>\n",
       "      <th>Dec</th>\n",
       "    </tr>\n",
       "  </thead>\n",
       "  <tbody>\n",
       "    <tr>\n",
       "      <th>0</th>\n",
       "      <td>Alipur</td>\n",
       "      <td>28.815442</td>\n",
       "      <td>77.152489</td>\n",
       "      <td>NaN</td>\n",
       "      <td>NaN</td>\n",
       "      <td>NaN</td>\n",
       "      <td>NaN</td>\n",
       "      <td>NaN</td>\n",
       "      <td>NaN</td>\n",
       "      <td>NaN</td>\n",
       "      <td>NaN</td>\n",
       "      <td>NaN</td>\n",
       "      <td>NaN</td>\n",
       "      <td>215.43</td>\n",
       "      <td>231.46</td>\n",
       "    </tr>\n",
       "    <tr>\n",
       "      <th>1</th>\n",
       "      <td>Anand Vihar</td>\n",
       "      <td>28.645835</td>\n",
       "      <td>77.314856</td>\n",
       "      <td>261.64</td>\n",
       "      <td>161.27</td>\n",
       "      <td>119.18</td>\n",
       "      <td>115.37</td>\n",
       "      <td>107.38</td>\n",
       "      <td>111.59</td>\n",
       "      <td>NaN</td>\n",
       "      <td>47.74</td>\n",
       "      <td>56.61</td>\n",
       "      <td>166.46</td>\n",
       "      <td>254.00</td>\n",
       "      <td>NaN</td>\n",
       "    </tr>\n",
       "    <tr>\n",
       "      <th>2</th>\n",
       "      <td>Ashok Vihar</td>\n",
       "      <td>28.695670</td>\n",
       "      <td>77.181302</td>\n",
       "      <td>NaN</td>\n",
       "      <td>172.04</td>\n",
       "      <td>119.95</td>\n",
       "      <td>101.38</td>\n",
       "      <td>97.54</td>\n",
       "      <td>78.01</td>\n",
       "      <td>38.88</td>\n",
       "      <td>41.36</td>\n",
       "      <td>38.88</td>\n",
       "      <td>86.91</td>\n",
       "      <td>245.07</td>\n",
       "      <td>292.13</td>\n",
       "    </tr>\n",
       "    <tr>\n",
       "      <th>3</th>\n",
       "      <td>Aya Nagar</td>\n",
       "      <td>28.470959</td>\n",
       "      <td>77.110122</td>\n",
       "      <td>148.98</td>\n",
       "      <td>110.73</td>\n",
       "      <td>57.50</td>\n",
       "      <td>NaN</td>\n",
       "      <td>NaN</td>\n",
       "      <td>NaN</td>\n",
       "      <td>41.64</td>\n",
       "      <td>45.23</td>\n",
       "      <td>48.87</td>\n",
       "      <td>102.99</td>\n",
       "      <td>136.04</td>\n",
       "      <td>144.12</td>\n",
       "    </tr>\n",
       "    <tr>\n",
       "      <th>4</th>\n",
       "      <td>Bawana</td>\n",
       "      <td>28.775754</td>\n",
       "      <td>77.051013</td>\n",
       "      <td>NaN</td>\n",
       "      <td>NaN</td>\n",
       "      <td>NaN</td>\n",
       "      <td>NaN</td>\n",
       "      <td>NaN</td>\n",
       "      <td>NaN</td>\n",
       "      <td>51.48</td>\n",
       "      <td>52.90</td>\n",
       "      <td>50.50</td>\n",
       "      <td>162.41</td>\n",
       "      <td>213.15</td>\n",
       "      <td>NaN</td>\n",
       "    </tr>\n",
       "  </tbody>\n",
       "</table>\n",
       "</div>"
      ],
      "text/plain": [
       "        Station        Lat       Long     Jan     Feb     Mar     Apr     May  \\\n",
       "0       Alipur   28.815442  77.152489     NaN     NaN     NaN     NaN     NaN   \n",
       "1  Anand Vihar   28.645835  77.314856  261.64  161.27  119.18  115.37  107.38   \n",
       "2  Ashok Vihar   28.695670  77.181302     NaN  172.04  119.95  101.38   97.54   \n",
       "3    Aya Nagar   28.470959  77.110122  148.98  110.73   57.50     NaN     NaN   \n",
       "4       Bawana   28.775754  77.051013     NaN     NaN     NaN     NaN     NaN   \n",
       "\n",
       "      Jun    Jul    Aug    Sep     Oct     Nov     Dec  \n",
       "0     NaN    NaN    NaN    NaN     NaN  215.43  231.46  \n",
       "1  111.59    NaN  47.74  56.61  166.46  254.00     NaN  \n",
       "2   78.01  38.88  41.36  38.88   86.91  245.07  292.13  \n",
       "3     NaN  41.64  45.23  48.87  102.99  136.04  144.12  \n",
       "4     NaN  51.48  52.90  50.50  162.41  213.15     NaN  "
      ]
     },
     "execution_count": 2,
     "metadata": {},
     "output_type": "execute_result"
    }
   ],
   "source": [
    "pm25 = pd.read_csv('PM25_monthly_avg_2018.csv')\n",
    "pm25.head()"
   ]
  },
  {
   "cell_type": "markdown",
   "metadata": {},
   "source": [
    "### Converting data into numpy arrays"
   ]
  },
  {
   "cell_type": "code",
   "execution_count": 3,
   "metadata": {},
   "outputs": [],
   "source": [
    "lat = pm25['Lat'].values\n",
    "lon = pm25['Long'].values\n",
    "dec = pm25['Dec'].values\n",
    "jan = pm25['Jan'].values\n",
    "feb = pm25['Feb'].values\n",
    "mar = pm25['Mar'].values\n",
    "apr = pm25['Apr'].values\n",
    "may = pm25['May'].values\n",
    "jun = pm25['Jun'].values\n",
    "jul = pm25['Jul'].values\n",
    "aug = pm25['Aug'].values\n",
    "sep = pm25['Sep'].values\n",
    "octo = pm25['Oct'].values\n",
    "nov = pm25['Nov'].values\n",
    "dec = pm25['Dec'].values"
   ]
  },
  {
   "cell_type": "markdown",
   "metadata": {},
   "source": [
    "### Manually adding data to show some random locations "
   ]
  },
  {
   "cell_type": "code",
   "execution_count": 4,
   "metadata": {},
   "outputs": [],
   "source": [
    "site_lon = [77.175211,77.184967,77.284445]\n",
    "site_lat = [28.630673,28.546935,28.450554]\n",
    "slon = np.asarray(site_lon)\n",
    "slat = np.asarray(site_lat)"
   ]
  },
  {
   "cell_type": "code",
   "execution_count": null,
   "metadata": {},
   "outputs": [],
   "source": [
    "Plott"
   ]
  },
  {
   "cell_type": "code",
   "execution_count": 5,
   "metadata": {},
   "outputs": [
    {
     "name": "stdout",
     "output_type": "stream",
     "text": [
      "Using matplotlib backend: Qt5Agg\n"
     ]
    }
   ],
   "source": [
    "%matplotlib\n",
    "map = Basemap(llcrnrlon=76.812,llcrnrlat=28.37,urcrnrlon=77.4,urcrnrlat=28.9)#, resolution = 'h', epsg=24378)\n",
    "#map.drawmapboundary(fill_color='aqua')\n",
    "#Fill the continents with the land color\n",
    "map.readshapefile('delhi_Project_sssss','Delhi')\n",
    "#map.fillcontinents(color='red',lake_color='aqua')\n",
    "#map.drawcoastlines()\n",
    "plt.title('July 2018',fontsize=20)\n",
    "map.scatter(lon, lat, latlon=True,\n",
    "          c=jul, s=100,\n",
    "          cmap='Reds', alpha=0.9)\n",
    "map.colorbar(label=r'$\\ PM_{2.5} Concentration $')\n",
    "plt.clim(0,350)\n",
    "map.scatter(slon,slat,latlon=True,s=30,color='green',alpha=1)\n",
    "plt.show()\n",
    "plt.savefig('jul',dpi=300)"
   ]
  },
  {
   "cell_type": "code",
   "execution_count": 53,
   "metadata": {},
   "outputs": [],
   "source": []
  }
 ],
 "metadata": {
  "kernelspec": {
   "display_name": "Python [conda env:py36]",
   "language": "python",
   "name": "conda-env-py36-py"
  },
  "language_info": {
   "codemirror_mode": {
    "name": "ipython",
    "version": 3
   },
   "file_extension": ".py",
   "mimetype": "text/x-python",
   "name": "python",
   "nbconvert_exporter": "python",
   "pygments_lexer": "ipython3",
   "version": "3.6.8"
  }
 },
 "nbformat": 4,
 "nbformat_minor": 2
}
